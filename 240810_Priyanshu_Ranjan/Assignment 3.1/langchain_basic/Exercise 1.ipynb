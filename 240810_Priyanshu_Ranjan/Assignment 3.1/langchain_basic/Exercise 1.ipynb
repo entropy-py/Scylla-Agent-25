{
 "cells": [
  {
   "cell_type": "code",
   "execution_count": 4,
   "id": "f13b5889-2ae8-4915-986a-2b6ce92443e2",
   "metadata": {},
   "outputs": [],
   "source": [
    "from typing import Dict, TypedDict\n",
    "from langgraph.graph import StateGraph"
   ]
  },
  {
   "cell_type": "code",
   "execution_count": 5,
   "id": "5e6ef740-4397-4fa0-a6b4-cf85fb89767b",
   "metadata": {},
   "outputs": [],
   "source": [
    "class AgentState(TypedDict):\n",
    "    name : str\n",
    "    message : str\n",
    "\n",
    "def motivate_node(state : AgentState) -> AgentState:\n",
    "    \"\"\"Simple node that adds motivational message to state\"\"\"\n",
    "    state['message'] = state['name'] + \", you are doing an amazing job learning LangGraph!\"\n",
    "\n",
    "    return state\n"
   ]
  },
  {
   "cell_type": "code",
   "execution_count": 6,
   "id": "72230d81-3a28-4b93-a4e4-9ec4e491761d",
   "metadata": {},
   "outputs": [],
   "source": [
    "graph = StateGraph(AgentState)\n",
    "\n",
    "graph.add_node(\"coach\", motivate_node)\n",
    "graph.set_entry_point(\"coach\")\n",
    "graph.set_finish_point(\"coach\")\n",
    "\n",
    "app = graph.compile()"
   ]
  },
  {
   "cell_type": "code",
   "execution_count": 2,
   "id": "942017cf-88d5-4427-b34c-f859a87e8b1b",
   "metadata": {},
   "outputs": [
    {
     "ename": "ModuleNotFoundError",
     "evalue": "No module named 'ipython'",
     "output_type": "error",
     "traceback": [
      "\u001b[31m---------------------------------------------------------------------------\u001b[39m",
      "\u001b[31mModuleNotFoundError\u001b[39m                       Traceback (most recent call last)",
      "\u001b[36mCell\u001b[39m\u001b[36m \u001b[39m\u001b[32mIn[2]\u001b[39m\u001b[32m, line 1\u001b[39m\n\u001b[32m----> \u001b[39m\u001b[32m1\u001b[39m \u001b[38;5;28;01mfrom\u001b[39;00m\u001b[38;5;250m \u001b[39m\u001b[34;01mipython\u001b[39;00m\u001b[34;01m.\u001b[39;00m\u001b[34;01mdisplay\u001b[39;00m\u001b[38;5;250m \u001b[39m\u001b[38;5;28;01mimport\u001b[39;00m Image, display\n\u001b[32m      2\u001b[39m display(Image(app.get_graph().draw_mermaid_png()))\n",
      "\u001b[31mModuleNotFoundError\u001b[39m: No module named 'ipython'"
     ]
    }
   ],
   "source": [
    "from IPython.display import Image, display\n",
    "\n",
    "display(Image(app.get_graph().draw_mermaid_png()))"
   ]
  },
  {
   "cell_type": "code",
   "execution_count": 7,
   "id": "ac7a2116-1a2c-43e1-b156-6a8a994ce0f2",
   "metadata": {},
   "outputs": [],
   "source": [
    "result = app.invoke({\"name\" : \"Bob\"})"
   ]
  },
  {
   "cell_type": "code",
   "execution_count": 8,
   "id": "b58ade91-cc29-4361-830f-dbfcd40094be",
   "metadata": {},
   "outputs": [
    {
     "data": {
      "text/plain": [
       "'Bob, you are doing an amazing job learning LangGraph!'"
      ]
     },
     "execution_count": 8,
     "metadata": {},
     "output_type": "execute_result"
    }
   ],
   "source": [
    "result['message']"
   ]
  }
 ],
 "metadata": {
  "kernelspec": {
   "display_name": "Python 3 (ipykernel)",
   "language": "python",
   "name": "python3"
  },
  "language_info": {
   "codemirror_mode": {
    "name": "ipython",
    "version": 3
   },
   "file_extension": ".py",
   "mimetype": "text/x-python",
   "name": "python",
   "nbconvert_exporter": "python",
   "pygments_lexer": "ipython3",
   "version": "3.13.3"
  }
 },
 "nbformat": 4,
 "nbformat_minor": 5
}
