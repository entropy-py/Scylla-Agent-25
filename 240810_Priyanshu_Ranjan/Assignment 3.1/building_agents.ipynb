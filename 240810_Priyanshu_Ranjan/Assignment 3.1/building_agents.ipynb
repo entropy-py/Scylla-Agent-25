{
 "cells": [
  {
   "cell_type": "code",
   "execution_count": 2,
   "id": "e5aa0d75-644a-43b4-852e-4f38613516a5",
   "metadata": {},
   "outputs": [
    {
     "name": "stdout",
     "output_type": "stream",
     "text": [
      "\n",
      "\u001b[1m[\u001b[0m\u001b[34;49mnotice\u001b[0m\u001b[1;39;49m]\u001b[0m\u001b[39;49m A new release of pip is available: \u001b[0m\u001b[31;49m25.0.1\u001b[0m\u001b[39;49m -> \u001b[0m\u001b[32;49m25.1.1\u001b[0m\n",
      "\u001b[1m[\u001b[0m\u001b[34;49mnotice\u001b[0m\u001b[1;39;49m]\u001b[0m\u001b[39;49m To update, run: \u001b[0m\u001b[32;49mpip install --upgrade pip\u001b[0m\n"
     ]
    }
   ],
   "source": [
    "!pip install -q llama-index"
   ]
  },
  {
   "cell_type": "code",
   "execution_count": 13,
   "id": "3270b5b6-ec53-41df-b9e9-d1cb67bd19dc",
   "metadata": {},
   "outputs": [],
   "source": [
    "from dotenv import load_dotenv\n",
    "load_dotenv()\n",
    "from llama_index.llms.groq import Groq\n",
    "from llama_index.core.agent.workflow import FunctionAgent"
   ]
  },
  {
   "cell_type": "markdown",
   "id": "97248056-faf4-49f0-a2f8-57f1e02c6cc8",
   "metadata": {},
   "source": [
    "llm= Groq(model= \"llama3-70b-8192\")"
   ]
  },
  {
   "cell_type": "code",
   "execution_count": 6,
   "id": "46a949c7-fc0b-4b41-ac66-14013b88986e",
   "metadata": {},
   "outputs": [],
   "source": [
    "def multiply(a: float, b: float) -> float:\n",
    "    \"\"\"Multiply two numbers and returns the product\"\"\"\n",
    "    return a * b\n",
    "\n",
    "\n",
    "def add(a: float, b: float) -> float:\n",
    "    \"\"\"Add two numbers and returns the sum\"\"\"\n",
    "    return a + b"
   ]
  },
  {
   "cell_type": "code",
   "execution_count": 7,
   "id": "58a9e513-61c1-468d-b2c6-221fb33c729a",
   "metadata": {},
   "outputs": [],
   "source": [
    "workflow = FunctionAgent(\n",
    "    tools=[multiply, add],\n",
    "    llm=llm,\n",
    "    system_prompt=\"You are an agent that can perform basic mathematical operations using tools.\",\n",
    ")"
   ]
  },
  {
   "cell_type": "code",
   "execution_count": 8,
   "id": "3d77b726-f702-4f3d-916e-1a273432edf9",
   "metadata": {},
   "outputs": [
    {
     "name": "stdout",
     "output_type": "stream",
     "text": [
      "The answer is 220.\n"
     ]
    }
   ],
   "source": [
    "response = await workflow.run(user_msg=\"Whats 40x5+20\")\n",
    "print(response)"
   ]
  },
  {
   "cell_type": "markdown",
   "id": "f63ee2fb-33c9-4ba9-97a1-f4db28d1fd3f",
   "metadata": {},
   "source": [
    "# Llama Hub Tools"
   ]
  },
  {
   "cell_type": "markdown",
   "id": "8fdb54bf-a9a1-402f-ba49-613383ae987a",
   "metadata": {},
   "source": [
    "pip install -q llama-index-tools-yahoo-finance"
   ]
  },
  {
   "cell_type": "code",
   "execution_count": 10,
   "id": "d45f328f-9260-41de-a3c9-7b9fd9a0d30f",
   "metadata": {},
   "outputs": [],
   "source": [
    "from llama_index.tools.yahoo_finance import YahooFinanceToolSpec"
   ]
  },
  {
   "cell_type": "code",
   "execution_count": 11,
   "id": "5f19ab03-7eed-4664-b9af-d92731cd4bbc",
   "metadata": {},
   "outputs": [],
   "source": [
    "finance_tools = YahooFinanceToolSpec().to_tool_list()"
   ]
  },
  {
   "cell_type": "code",
   "execution_count": 12,
   "id": "d5be113a-bece-4db6-be60-408caa9eac46",
   "metadata": {},
   "outputs": [
    {
     "name": "stdout",
     "output_type": "stream",
     "text": [
      "The current stock price of NVIDIA is $145.015.\n"
     ]
    }
   ],
   "source": [
    "workflow2 = FunctionAgent(\n",
    "    name=\"Agent\",\n",
    "    description=\"Useful for performing financial operations.\",\n",
    "    llm=llm,\n",
    "    tools=finance_tools,\n",
    "    system_prompt=\"You are a helpful assistant.\",\n",
    ")\n",
    "\n",
    "\n",
    "response = await workflow2.run(user_msg=\"What's the current stock price of NVIDIA\")\n",
    "print(response)"
   ]
  },
  {
   "cell_type": "code",
   "execution_count": null,
   "id": "ea774390-5e24-4179-9a35-8507d25aadee",
   "metadata": {},
   "outputs": [],
   "source": []
  }
 ],
 "metadata": {
  "kernelspec": {
   "display_name": "Python 3 (ipykernel)",
   "language": "python",
   "name": "python3"
  },
  "language_info": {
   "codemirror_mode": {
    "name": "ipython",
    "version": 3
   },
   "file_extension": ".py",
   "mimetype": "text/x-python",
   "name": "python",
   "nbconvert_exporter": "python",
   "pygments_lexer": "ipython3",
   "version": "3.13.3"
  }
 },
 "nbformat": 4,
 "nbformat_minor": 5
}
