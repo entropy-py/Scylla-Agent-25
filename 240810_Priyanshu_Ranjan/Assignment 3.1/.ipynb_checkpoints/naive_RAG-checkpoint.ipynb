{
 "cells": [
  {
   "cell_type": "markdown",
   "id": "6b84cb9f-66a9-4844-b18f-0d4804c747c8",
   "metadata": {},
   "source": [
    "# RAG Implementation"
   ]
  },
  {
   "cell_type": "markdown",
   "id": "e948103b-d633-4b5d-957b-ec0550194b8e",
   "metadata": {},
   "source": [
    "I leveraged abstractions provided by Llamaindex to effortlessly implement naive rag"
   ]
  },
  {
   "cell_type": "markdown",
   "id": "fd3d31b9-e87a-4d75-ad41-4d54a33e267d",
   "metadata": {},
   "source": [
    "from llama_index.core import SimpleDirectoryReader\n",
    "\n",
    "documents = SimpleDirectoryReader(\"./data\").load_data()"
   ]
  },
  {
   "cell_type": "code",
   "execution_count": 16,
   "id": "2d0957f5-121f-42bd-85cc-249445a42a32",
   "metadata": {},
   "outputs": [
    {
     "name": "stdout",
     "output_type": "stream",
     "text": [
      "\n",
      "\u001b[1m[\u001b[0m\u001b[34;49mnotice\u001b[0m\u001b[1;39;49m]\u001b[0m\u001b[39;49m A new release of pip is available: \u001b[0m\u001b[31;49m25.0.1\u001b[0m\u001b[39;49m -> \u001b[0m\u001b[32;49m25.1.1\u001b[0m\n",
      "\u001b[1m[\u001b[0m\u001b[34;49mnotice\u001b[0m\u001b[1;39;49m]\u001b[0m\u001b[39;49m To update, run: \u001b[0m\u001b[32;49mpip install --upgrade pip\u001b[0m\n",
      "\n",
      "\u001b[1m[\u001b[0m\u001b[34;49mnotice\u001b[0m\u001b[1;39;49m]\u001b[0m\u001b[39;49m A new release of pip is available: \u001b[0m\u001b[31;49m25.0.1\u001b[0m\u001b[39;49m -> \u001b[0m\u001b[32;49m25.1.1\u001b[0m\n",
      "\u001b[1m[\u001b[0m\u001b[34;49mnotice\u001b[0m\u001b[1;39;49m]\u001b[0m\u001b[39;49m To update, run: \u001b[0m\u001b[32;49mpip install --upgrade pip\u001b[0m\n"
     ]
    }
   ],
   "source": [
    "!pip install -q llama-index-llms-ollama\n",
    "!pip install -q llama-index-embeddings-ollama"
   ]
  },
  {
   "cell_type": "code",
   "execution_count": 17,
   "id": "d8ed9f02-d372-4672-8ee9-25139b58bb41",
   "metadata": {},
   "outputs": [],
   "source": [
    "from llama_index.embeddings.ollama import OllamaEmbedding"
   ]
  },
  {
   "cell_type": "code",
   "execution_count": 20,
   "id": "41c00b3a-8e8c-4f27-a9dd-fa958224aa77",
   "metadata": {},
   "outputs": [],
   "source": [
    "ollama_embedding = OllamaEmbedding(\n",
    "    model_name=\"nomic-embed-text:latest\",\n",
    ")"
   ]
  },
  {
   "cell_type": "code",
   "execution_count": 21,
   "id": "2c9b756c-d6dc-4df2-a839-35f6e107b65c",
   "metadata": {},
   "outputs": [],
   "source": [
    "from llama_index.core import VectorStoreIndex\n",
    "from llama_index.core import Settings\n",
    "\n",
    "index = VectorStoreIndex.from_documents(documents, embed_model=ollama_embedding)"
   ]
  },
  {
   "cell_type": "code",
   "execution_count": 25,
   "id": "64e9405d-7468-4e29-a9e1-d26370785273",
   "metadata": {},
   "outputs": [],
   "source": [
    "from llama_index.llms.ollama import Ollama\n",
    "llm = Ollama(\n",
    "    model=\"mistral\",\n",
    "    request_timeout=60.0,\n",
    ")"
   ]
  },
  {
   "cell_type": "code",
   "execution_count": 29,
   "id": "f85e0854-f9fa-4aac-a85c-789e0fb86182",
   "metadata": {},
   "outputs": [
    {
     "name": "stdout",
     "output_type": "stream",
     "text": [
      " Senators will be elected based on a preferential voting system as mentioned in Article 3.06 of the provided constitution. Each voter will have three preferences to cast for different candidates. The points assigned to each preference are as follows - 5 points for the first preference, 3 points for the second preference, and 1 point for the third preference.\n",
      "\n",
      "The senators for each class will be declared elected based on the points obtained from these votes as outlined in Article 3.07. If a sufficient number of candidates exceeds 340 first-preference points, those candidates with the highest points will be elected. However, if no candidate meets this requirement, additional senators will be elected based on the combined total of first, second, and third preference points until the required number is met.\n",
      "\n",
      "It's important to note that the ratio of Senators to each group will remain as previously defined in Article 3.04. Also, Mid-term elections for Senators from the First year UG and First Semester M.Tech., M.B.A., and other equivalent Masters programs will be held in August (as per Article 3.05).\n"
     ]
    }
   ],
   "source": [
    "query_engine = index.as_query_engine(llm = llm)\n",
    "response = query_engine.query(\n",
    "    \"How will senators be elected?\"\n",
    ")\n",
    "print(response)"
   ]
  }
 ],
 "metadata": {
  "kernelspec": {
   "display_name": "Python 3 (ipykernel)",
   "language": "python",
   "name": "python3"
  },
  "language_info": {
   "codemirror_mode": {
    "name": "ipython",
    "version": 3
   },
   "file_extension": ".py",
   "mimetype": "text/x-python",
   "name": "python",
   "nbconvert_exporter": "python",
   "pygments_lexer": "ipython3",
   "version": "3.13.3"
  }
 },
 "nbformat": 4,
 "nbformat_minor": 5
}
