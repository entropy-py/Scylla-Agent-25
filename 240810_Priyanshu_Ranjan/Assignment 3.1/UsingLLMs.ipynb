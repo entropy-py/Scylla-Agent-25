{
 "cells": [
  {
   "cell_type": "code",
   "execution_count": 2,
   "id": "808803b3-0632-47a9-aedf-e6e64bb7fa2b",
   "metadata": {},
   "outputs": [
    {
     "name": "stdout",
     "output_type": "stream",
     "text": [
      "Collecting llama-index-llms-groq\n",
      "  Downloading llama_index_llms_groq-0.3.2-py3-none-any.whl.metadata (2.0 kB)\n",
      "Collecting llama-index-core<0.13,>=0.12.0 (from llama-index-llms-groq)\n",
      "  Downloading llama_index_core-0.12.42-py3-none-any.whl.metadata (2.4 kB)\n",
      "Collecting llama-index-llms-openai-like<0.5,>=0.4.0 (from llama-index-llms-groq)\n",
      "  Downloading llama_index_llms_openai_like-0.4.0-py3-none-any.whl.metadata (1.1 kB)\n",
      "Requirement already satisfied: aiohttp<4,>=3.8.6 in /home/itspriiyanshu/Desktop/Scylla-Agent-25/240810_Priyanshu_Ranjan/venv/lib/python3.13/site-packages (from llama-index-core<0.13,>=0.12.0->llama-index-llms-groq) (3.12.13)\n",
      "Collecting aiosqlite (from llama-index-core<0.13,>=0.12.0->llama-index-llms-groq)\n",
      "  Downloading aiosqlite-0.21.0-py3-none-any.whl.metadata (4.3 kB)\n",
      "Collecting banks<3,>=2.0.0 (from llama-index-core<0.13,>=0.12.0->llama-index-llms-groq)\n",
      "  Downloading banks-2.1.2-py3-none-any.whl.metadata (12 kB)\n",
      "Requirement already satisfied: dataclasses-json in /home/itspriiyanshu/Desktop/Scylla-Agent-25/240810_Priyanshu_Ranjan/venv/lib/python3.13/site-packages (from llama-index-core<0.13,>=0.12.0->llama-index-llms-groq) (0.6.7)\n",
      "Collecting deprecated>=1.2.9.3 (from llama-index-core<0.13,>=0.12.0->llama-index-llms-groq)\n",
      "  Downloading Deprecated-1.2.18-py2.py3-none-any.whl.metadata (5.7 kB)\n",
      "Collecting dirtyjson<2,>=1.0.8 (from llama-index-core<0.13,>=0.12.0->llama-index-llms-groq)\n",
      "  Downloading dirtyjson-1.0.8-py3-none-any.whl.metadata (11 kB)\n",
      "Collecting filetype<2,>=1.2.0 (from llama-index-core<0.13,>=0.12.0->llama-index-llms-groq)\n",
      "  Downloading filetype-1.2.0-py2.py3-none-any.whl.metadata (6.5 kB)\n",
      "Requirement already satisfied: fsspec>=2023.5.0 in /home/itspriiyanshu/Desktop/Scylla-Agent-25/240810_Priyanshu_Ranjan/venv/lib/python3.13/site-packages (from llama-index-core<0.13,>=0.12.0->llama-index-llms-groq) (2025.5.1)\n",
      "Requirement already satisfied: httpx in /home/itspriiyanshu/Desktop/Scylla-Agent-25/240810_Priyanshu_Ranjan/venv/lib/python3.13/site-packages (from llama-index-core<0.13,>=0.12.0->llama-index-llms-groq) (0.28.1)\n",
      "Requirement already satisfied: nest-asyncio<2,>=1.5.8 in /home/itspriiyanshu/Desktop/Scylla-Agent-25/240810_Priyanshu_Ranjan/venv/lib/python3.13/site-packages (from llama-index-core<0.13,>=0.12.0->llama-index-llms-groq) (1.6.0)\n",
      "Requirement already satisfied: networkx>=3.0 in /home/itspriiyanshu/Desktop/Scylla-Agent-25/240810_Priyanshu_Ranjan/venv/lib/python3.13/site-packages (from llama-index-core<0.13,>=0.12.0->llama-index-llms-groq) (3.5)\n",
      "Collecting nltk>3.8.1 (from llama-index-core<0.13,>=0.12.0->llama-index-llms-groq)\n",
      "  Downloading nltk-3.9.1-py3-none-any.whl.metadata (2.9 kB)\n",
      "Requirement already satisfied: numpy in /home/itspriiyanshu/Desktop/Scylla-Agent-25/240810_Priyanshu_Ranjan/venv/lib/python3.13/site-packages (from llama-index-core<0.13,>=0.12.0->llama-index-llms-groq) (2.2.6)\n",
      "Requirement already satisfied: pillow>=9.0.0 in /home/itspriiyanshu/Desktop/Scylla-Agent-25/240810_Priyanshu_Ranjan/venv/lib/python3.13/site-packages (from llama-index-core<0.13,>=0.12.0->llama-index-llms-groq) (11.2.1)\n",
      "Requirement already satisfied: pydantic>=2.8.0 in /home/itspriiyanshu/Desktop/Scylla-Agent-25/240810_Priyanshu_Ranjan/venv/lib/python3.13/site-packages (from llama-index-core<0.13,>=0.12.0->llama-index-llms-groq) (2.11.5)\n",
      "Requirement already satisfied: pyyaml>=6.0.1 in /home/itspriiyanshu/Desktop/Scylla-Agent-25/240810_Priyanshu_Ranjan/venv/lib/python3.13/site-packages (from llama-index-core<0.13,>=0.12.0->llama-index-llms-groq) (6.0.2)\n",
      "Requirement already satisfied: requests>=2.31.0 in /home/itspriiyanshu/Desktop/Scylla-Agent-25/240810_Priyanshu_Ranjan/venv/lib/python3.13/site-packages (from llama-index-core<0.13,>=0.12.0->llama-index-llms-groq) (2.32.4)\n",
      "Requirement already satisfied: sqlalchemy>=1.4.49 in /home/itspriiyanshu/Desktop/Scylla-Agent-25/240810_Priyanshu_Ranjan/venv/lib/python3.13/site-packages (from sqlalchemy[asyncio]>=1.4.49->llama-index-core<0.13,>=0.12.0->llama-index-llms-groq) (2.0.41)\n",
      "Requirement already satisfied: tenacity!=8.4.0,<10.0.0,>=8.2.0 in /home/itspriiyanshu/Desktop/Scylla-Agent-25/240810_Priyanshu_Ranjan/venv/lib/python3.13/site-packages (from llama-index-core<0.13,>=0.12.0->llama-index-llms-groq) (9.1.2)\n",
      "Collecting tiktoken>=0.7.0 (from llama-index-core<0.13,>=0.12.0->llama-index-llms-groq)\n",
      "  Downloading tiktoken-0.9.0-cp313-cp313-manylinux_2_17_x86_64.manylinux2014_x86_64.whl.metadata (6.7 kB)\n",
      "Requirement already satisfied: tqdm<5,>=4.66.1 in /home/itspriiyanshu/Desktop/Scylla-Agent-25/240810_Priyanshu_Ranjan/venv/lib/python3.13/site-packages (from llama-index-core<0.13,>=0.12.0->llama-index-llms-groq) (4.67.1)\n",
      "Requirement already satisfied: typing-extensions>=4.5.0 in /home/itspriiyanshu/Desktop/Scylla-Agent-25/240810_Priyanshu_Ranjan/venv/lib/python3.13/site-packages (from llama-index-core<0.13,>=0.12.0->llama-index-llms-groq) (4.14.0)\n",
      "Requirement already satisfied: typing-inspect>=0.8.0 in /home/itspriiyanshu/Desktop/Scylla-Agent-25/240810_Priyanshu_Ranjan/venv/lib/python3.13/site-packages (from llama-index-core<0.13,>=0.12.0->llama-index-llms-groq) (0.9.0)\n",
      "Collecting wrapt (from llama-index-core<0.13,>=0.12.0->llama-index-llms-groq)\n",
      "  Downloading wrapt-1.17.2-cp313-cp313-manylinux_2_5_x86_64.manylinux1_x86_64.manylinux_2_17_x86_64.manylinux2014_x86_64.whl.metadata (6.4 kB)\n",
      "Collecting llama-index-llms-openai<0.5,>=0.4.0 (from llama-index-llms-openai-like<0.5,>=0.4.0->llama-index-llms-groq)\n",
      "  Downloading llama_index_llms_openai-0.4.7-py3-none-any.whl.metadata (3.0 kB)\n",
      "Requirement already satisfied: transformers<5,>=4.37.0 in /home/itspriiyanshu/Desktop/Scylla-Agent-25/240810_Priyanshu_Ranjan/venv/lib/python3.13/site-packages (from llama-index-llms-openai-like<0.5,>=0.4.0->llama-index-llms-groq) (4.52.4)\n",
      "Requirement already satisfied: aiohappyeyeballs>=2.5.0 in /home/itspriiyanshu/Desktop/Scylla-Agent-25/240810_Priyanshu_Ranjan/venv/lib/python3.13/site-packages (from aiohttp<4,>=3.8.6->llama-index-core<0.13,>=0.12.0->llama-index-llms-groq) (2.6.1)\n",
      "Requirement already satisfied: aiosignal>=1.1.2 in /home/itspriiyanshu/Desktop/Scylla-Agent-25/240810_Priyanshu_Ranjan/venv/lib/python3.13/site-packages (from aiohttp<4,>=3.8.6->llama-index-core<0.13,>=0.12.0->llama-index-llms-groq) (1.3.2)\n",
      "Requirement already satisfied: attrs>=17.3.0 in /home/itspriiyanshu/Desktop/Scylla-Agent-25/240810_Priyanshu_Ranjan/venv/lib/python3.13/site-packages (from aiohttp<4,>=3.8.6->llama-index-core<0.13,>=0.12.0->llama-index-llms-groq) (25.3.0)\n",
      "Requirement already satisfied: frozenlist>=1.1.1 in /home/itspriiyanshu/Desktop/Scylla-Agent-25/240810_Priyanshu_Ranjan/venv/lib/python3.13/site-packages (from aiohttp<4,>=3.8.6->llama-index-core<0.13,>=0.12.0->llama-index-llms-groq) (1.7.0)\n",
      "Requirement already satisfied: multidict<7.0,>=4.5 in /home/itspriiyanshu/Desktop/Scylla-Agent-25/240810_Priyanshu_Ranjan/venv/lib/python3.13/site-packages (from aiohttp<4,>=3.8.6->llama-index-core<0.13,>=0.12.0->llama-index-llms-groq) (6.5.0)\n",
      "Requirement already satisfied: propcache>=0.2.0 in /home/itspriiyanshu/Desktop/Scylla-Agent-25/240810_Priyanshu_Ranjan/venv/lib/python3.13/site-packages (from aiohttp<4,>=3.8.6->llama-index-core<0.13,>=0.12.0->llama-index-llms-groq) (0.3.2)\n",
      "Requirement already satisfied: yarl<2.0,>=1.17.0 in /home/itspriiyanshu/Desktop/Scylla-Agent-25/240810_Priyanshu_Ranjan/venv/lib/python3.13/site-packages (from aiohttp<4,>=3.8.6->llama-index-core<0.13,>=0.12.0->llama-index-llms-groq) (1.20.1)\n",
      "Collecting griffe (from banks<3,>=2.0.0->llama-index-core<0.13,>=0.12.0->llama-index-llms-groq)\n",
      "  Downloading griffe-1.7.3-py3-none-any.whl.metadata (5.0 kB)\n",
      "Requirement already satisfied: jinja2 in /home/itspriiyanshu/Desktop/Scylla-Agent-25/240810_Priyanshu_Ranjan/venv/lib/python3.13/site-packages (from banks<3,>=2.0.0->llama-index-core<0.13,>=0.12.0->llama-index-llms-groq) (3.1.6)\n",
      "Requirement already satisfied: platformdirs in /home/itspriiyanshu/Desktop/Scylla-Agent-25/240810_Priyanshu_Ranjan/venv/lib/python3.13/site-packages (from banks<3,>=2.0.0->llama-index-core<0.13,>=0.12.0->llama-index-llms-groq) (4.3.8)\n",
      "Requirement already satisfied: openai<2,>=1.81.0 in /home/itspriiyanshu/Desktop/Scylla-Agent-25/240810_Priyanshu_Ranjan/venv/lib/python3.13/site-packages (from llama-index-llms-openai<0.5,>=0.4.0->llama-index-llms-openai-like<0.5,>=0.4.0->llama-index-llms-groq) (1.84.0)\n",
      "Collecting click (from nltk>3.8.1->llama-index-core<0.13,>=0.12.0->llama-index-llms-groq)\n",
      "  Downloading click-8.2.1-py3-none-any.whl.metadata (2.5 kB)\n",
      "Requirement already satisfied: joblib in /home/itspriiyanshu/Desktop/Scylla-Agent-25/240810_Priyanshu_Ranjan/venv/lib/python3.13/site-packages (from nltk>3.8.1->llama-index-core<0.13,>=0.12.0->llama-index-llms-groq) (1.5.1)\n",
      "Requirement already satisfied: regex>=2021.8.3 in /home/itspriiyanshu/Desktop/Scylla-Agent-25/240810_Priyanshu_Ranjan/venv/lib/python3.13/site-packages (from nltk>3.8.1->llama-index-core<0.13,>=0.12.0->llama-index-llms-groq) (2024.11.6)\n",
      "Requirement already satisfied: annotated-types>=0.6.0 in /home/itspriiyanshu/Desktop/Scylla-Agent-25/240810_Priyanshu_Ranjan/venv/lib/python3.13/site-packages (from pydantic>=2.8.0->llama-index-core<0.13,>=0.12.0->llama-index-llms-groq) (0.7.0)\n",
      "Requirement already satisfied: pydantic-core==2.33.2 in /home/itspriiyanshu/Desktop/Scylla-Agent-25/240810_Priyanshu_Ranjan/venv/lib/python3.13/site-packages (from pydantic>=2.8.0->llama-index-core<0.13,>=0.12.0->llama-index-llms-groq) (2.33.2)\n",
      "Requirement already satisfied: typing-inspection>=0.4.0 in /home/itspriiyanshu/Desktop/Scylla-Agent-25/240810_Priyanshu_Ranjan/venv/lib/python3.13/site-packages (from pydantic>=2.8.0->llama-index-core<0.13,>=0.12.0->llama-index-llms-groq) (0.4.1)\n",
      "Requirement already satisfied: charset_normalizer<4,>=2 in /home/itspriiyanshu/Desktop/Scylla-Agent-25/240810_Priyanshu_Ranjan/venv/lib/python3.13/site-packages (from requests>=2.31.0->llama-index-core<0.13,>=0.12.0->llama-index-llms-groq) (3.4.2)\n",
      "Requirement already satisfied: idna<4,>=2.5 in /home/itspriiyanshu/Desktop/Scylla-Agent-25/240810_Priyanshu_Ranjan/venv/lib/python3.13/site-packages (from requests>=2.31.0->llama-index-core<0.13,>=0.12.0->llama-index-llms-groq) (3.10)\n",
      "Requirement already satisfied: urllib3<3,>=1.21.1 in /home/itspriiyanshu/Desktop/Scylla-Agent-25/240810_Priyanshu_Ranjan/venv/lib/python3.13/site-packages (from requests>=2.31.0->llama-index-core<0.13,>=0.12.0->llama-index-llms-groq) (2.4.0)\n",
      "Requirement already satisfied: certifi>=2017.4.17 in /home/itspriiyanshu/Desktop/Scylla-Agent-25/240810_Priyanshu_Ranjan/venv/lib/python3.13/site-packages (from requests>=2.31.0->llama-index-core<0.13,>=0.12.0->llama-index-llms-groq) (2025.6.15)\n",
      "Requirement already satisfied: greenlet>=1 in /home/itspriiyanshu/Desktop/Scylla-Agent-25/240810_Priyanshu_Ranjan/venv/lib/python3.13/site-packages (from sqlalchemy>=1.4.49->sqlalchemy[asyncio]>=1.4.49->llama-index-core<0.13,>=0.12.0->llama-index-llms-groq) (3.2.3)\n",
      "Requirement already satisfied: filelock in /home/itspriiyanshu/Desktop/Scylla-Agent-25/240810_Priyanshu_Ranjan/venv/lib/python3.13/site-packages (from transformers<5,>=4.37.0->llama-index-llms-openai-like<0.5,>=0.4.0->llama-index-llms-groq) (3.18.0)\n",
      "Requirement already satisfied: huggingface-hub<1.0,>=0.30.0 in /home/itspriiyanshu/Desktop/Scylla-Agent-25/240810_Priyanshu_Ranjan/venv/lib/python3.13/site-packages (from transformers<5,>=4.37.0->llama-index-llms-openai-like<0.5,>=0.4.0->llama-index-llms-groq) (0.32.4)\n",
      "Requirement already satisfied: packaging>=20.0 in /home/itspriiyanshu/Desktop/Scylla-Agent-25/240810_Priyanshu_Ranjan/venv/lib/python3.13/site-packages (from transformers<5,>=4.37.0->llama-index-llms-openai-like<0.5,>=0.4.0->llama-index-llms-groq) (24.2)\n",
      "Requirement already satisfied: tokenizers<0.22,>=0.21 in /home/itspriiyanshu/Desktop/Scylla-Agent-25/240810_Priyanshu_Ranjan/venv/lib/python3.13/site-packages (from transformers<5,>=4.37.0->llama-index-llms-openai-like<0.5,>=0.4.0->llama-index-llms-groq) (0.21.1)\n",
      "Requirement already satisfied: safetensors>=0.4.3 in /home/itspriiyanshu/Desktop/Scylla-Agent-25/240810_Priyanshu_Ranjan/venv/lib/python3.13/site-packages (from transformers<5,>=4.37.0->llama-index-llms-openai-like<0.5,>=0.4.0->llama-index-llms-groq) (0.5.3)\n",
      "Requirement already satisfied: mypy-extensions>=0.3.0 in /home/itspriiyanshu/Desktop/Scylla-Agent-25/240810_Priyanshu_Ranjan/venv/lib/python3.13/site-packages (from typing-inspect>=0.8.0->llama-index-core<0.13,>=0.12.0->llama-index-llms-groq) (1.1.0)\n",
      "Requirement already satisfied: marshmallow<4.0.0,>=3.18.0 in /home/itspriiyanshu/Desktop/Scylla-Agent-25/240810_Priyanshu_Ranjan/venv/lib/python3.13/site-packages (from dataclasses-json->llama-index-core<0.13,>=0.12.0->llama-index-llms-groq) (3.26.1)\n",
      "Requirement already satisfied: anyio in /home/itspriiyanshu/Desktop/Scylla-Agent-25/240810_Priyanshu_Ranjan/venv/lib/python3.13/site-packages (from httpx->llama-index-core<0.13,>=0.12.0->llama-index-llms-groq) (4.9.0)\n",
      "Requirement already satisfied: httpcore==1.* in /home/itspriiyanshu/Desktop/Scylla-Agent-25/240810_Priyanshu_Ranjan/venv/lib/python3.13/site-packages (from httpx->llama-index-core<0.13,>=0.12.0->llama-index-llms-groq) (1.0.9)\n",
      "Requirement already satisfied: h11>=0.16 in /home/itspriiyanshu/Desktop/Scylla-Agent-25/240810_Priyanshu_Ranjan/venv/lib/python3.13/site-packages (from httpcore==1.*->httpx->llama-index-core<0.13,>=0.12.0->llama-index-llms-groq) (0.16.0)\n",
      "Requirement already satisfied: hf-xet<2.0.0,>=1.1.2 in /home/itspriiyanshu/Desktop/Scylla-Agent-25/240810_Priyanshu_Ranjan/venv/lib/python3.13/site-packages (from huggingface-hub<1.0,>=0.30.0->transformers<5,>=4.37.0->llama-index-llms-openai-like<0.5,>=0.4.0->llama-index-llms-groq) (1.1.3)\n",
      "Requirement already satisfied: distro<2,>=1.7.0 in /home/itspriiyanshu/Desktop/Scylla-Agent-25/240810_Priyanshu_Ranjan/venv/lib/python3.13/site-packages (from openai<2,>=1.81.0->llama-index-llms-openai<0.5,>=0.4.0->llama-index-llms-openai-like<0.5,>=0.4.0->llama-index-llms-groq) (1.9.0)\n",
      "Requirement already satisfied: jiter<1,>=0.4.0 in /home/itspriiyanshu/Desktop/Scylla-Agent-25/240810_Priyanshu_Ranjan/venv/lib/python3.13/site-packages (from openai<2,>=1.81.0->llama-index-llms-openai<0.5,>=0.4.0->llama-index-llms-openai-like<0.5,>=0.4.0->llama-index-llms-groq) (0.10.0)\n",
      "Requirement already satisfied: sniffio in /home/itspriiyanshu/Desktop/Scylla-Agent-25/240810_Priyanshu_Ranjan/venv/lib/python3.13/site-packages (from openai<2,>=1.81.0->llama-index-llms-openai<0.5,>=0.4.0->llama-index-llms-openai-like<0.5,>=0.4.0->llama-index-llms-groq) (1.3.1)\n",
      "Collecting colorama>=0.4 (from griffe->banks<3,>=2.0.0->llama-index-core<0.13,>=0.12.0->llama-index-llms-groq)\n",
      "  Downloading colorama-0.4.6-py2.py3-none-any.whl.metadata (17 kB)\n",
      "Requirement already satisfied: MarkupSafe>=2.0 in /home/itspriiyanshu/Desktop/Scylla-Agent-25/240810_Priyanshu_Ranjan/venv/lib/python3.13/site-packages (from jinja2->banks<3,>=2.0.0->llama-index-core<0.13,>=0.12.0->llama-index-llms-groq) (3.0.2)\n",
      "Downloading llama_index_llms_groq-0.3.2-py3-none-any.whl (3.7 kB)\n",
      "Downloading llama_index_core-0.12.42-py3-none-any.whl (7.7 MB)\n",
      "\u001b[2K   \u001b[38;2;114;156;31m━━━━━━━━━━━━━━━━━━━━━━━━━━━━━━━━━━━━━━━━\u001b[0m \u001b[32m7.7/7.7 MB\u001b[0m \u001b[31m3.1 MB/s\u001b[0m eta \u001b[36m0:00:00\u001b[0m[31m3.0 MB/s\u001b[0m eta \u001b[36m0:00:01\u001b[0m\n",
      "\u001b[?25hDownloading llama_index_llms_openai_like-0.4.0-py3-none-any.whl (4.6 kB)\n",
      "Downloading banks-2.1.2-py3-none-any.whl (28 kB)\n",
      "Downloading Deprecated-1.2.18-py2.py3-none-any.whl (10.0 kB)\n",
      "Downloading dirtyjson-1.0.8-py3-none-any.whl (25 kB)\n",
      "Downloading filetype-1.2.0-py2.py3-none-any.whl (19 kB)\n",
      "Downloading llama_index_llms_openai-0.4.7-py3-none-any.whl (25 kB)\n",
      "Downloading nltk-3.9.1-py3-none-any.whl (1.5 MB)\n",
      "\u001b[2K   \u001b[38;2;114;156;31m━━━━━━━━━━━━━━━━━━━━━━━━━━━━━━━━━━━━━━━━\u001b[0m \u001b[32m1.5/1.5 MB\u001b[0m \u001b[31m17.0 MB/s\u001b[0m eta \u001b[36m0:00:00\u001b[0m\n",
      "\u001b[?25hDownloading tiktoken-0.9.0-cp313-cp313-manylinux_2_17_x86_64.manylinux2014_x86_64.whl (1.2 MB)\n",
      "\u001b[2K   \u001b[38;2;114;156;31m━━━━━━━━━━━━━━━━━━━━━━━━━━━━━━━━━━━━━━━━\u001b[0m \u001b[32m1.2/1.2 MB\u001b[0m \u001b[31m19.0 MB/s\u001b[0m eta \u001b[36m0:00:00\u001b[0m\n",
      "\u001b[?25hDownloading wrapt-1.17.2-cp313-cp313-manylinux_2_5_x86_64.manylinux1_x86_64.manylinux_2_17_x86_64.manylinux2014_x86_64.whl (89 kB)\n",
      "Downloading aiosqlite-0.21.0-py3-none-any.whl (15 kB)\n",
      "Downloading click-8.2.1-py3-none-any.whl (102 kB)\n",
      "Downloading griffe-1.7.3-py3-none-any.whl (129 kB)\n",
      "Downloading colorama-0.4.6-py2.py3-none-any.whl (25 kB)\n",
      "Installing collected packages: filetype, dirtyjson, wrapt, colorama, click, aiosqlite, tiktoken, nltk, griffe, deprecated, banks, llama-index-core, llama-index-llms-openai, llama-index-llms-openai-like, llama-index-llms-groq\n",
      "Successfully installed aiosqlite-0.21.0 banks-2.1.2 click-8.2.1 colorama-0.4.6 deprecated-1.2.18 dirtyjson-1.0.8 filetype-1.2.0 griffe-1.7.3 llama-index-core-0.12.42 llama-index-llms-groq-0.3.2 llama-index-llms-openai-0.4.7 llama-index-llms-openai-like-0.4.0 nltk-3.9.1 tiktoken-0.9.0 wrapt-1.17.2\n",
      "\n",
      "\u001b[1m[\u001b[0m\u001b[34;49mnotice\u001b[0m\u001b[1;39;49m]\u001b[0m\u001b[39;49m A new release of pip is available: \u001b[0m\u001b[31;49m25.0.1\u001b[0m\u001b[39;49m -> \u001b[0m\u001b[32;49m25.1.1\u001b[0m\n",
      "\u001b[1m[\u001b[0m\u001b[34;49mnotice\u001b[0m\u001b[1;39;49m]\u001b[0m\u001b[39;49m To update, run: \u001b[0m\u001b[32;49mpip install --upgrade pip\u001b[0m\n"
     ]
    }
   ],
   "source": [
    "! pip install llama-index-llms-groq"
   ]
  },
  {
   "cell_type": "code",
   "execution_count": 3,
   "id": "f1b234d2-bc42-4933-b895-30163c985e31",
   "metadata": {},
   "outputs": [
    {
     "name": "stderr",
     "output_type": "stream",
     "text": [
      "/home/itspriiyanshu/Desktop/Scylla-Agent-25/240810_Priyanshu_Ranjan/venv/lib/python3.13/site-packages/tqdm/auto.py:21: TqdmWarning: IProgress not found. Please update jupyter and ipywidgets. See https://ipywidgets.readthedocs.io/en/stable/user_install.html\n",
      "  from .autonotebook import tqdm as notebook_tqdm\n"
     ]
    }
   ],
   "source": [
    "from llama_index.llms.groq import Groq"
   ]
  },
  {
   "cell_type": "code",
   "execution_count": 4,
   "id": "0c272f3c-6178-4aad-b7b9-ae69c411a903",
   "metadata": {},
   "outputs": [
    {
     "data": {
      "text/plain": [
       "True"
      ]
     },
     "execution_count": 4,
     "metadata": {},
     "output_type": "execute_result"
    }
   ],
   "source": [
    "from dotenv import load_dotenv\n",
    "load_dotenv()"
   ]
  },
  {
   "cell_type": "code",
   "execution_count": 6,
   "id": "d05df9cb-bb7f-4289-836b-51c519e7da81",
   "metadata": {},
   "outputs": [],
   "source": [
    "llm = Groq(model= \"llama3-70b-8192\")"
   ]
  },
  {
   "cell_type": "code",
   "execution_count": 7,
   "id": "17942934-5a8c-42de-ad19-f552218f2e5e",
   "metadata": {},
   "outputs": [
    {
     "name": "stdout",
     "output_type": "stream",
     "text": [
      "In the context of a chatbot, \"scalable\" and \"low latency\" refer to the ability of the chatbot system to handle a large volume of conversations simultaneously, while maintaining a responsive and timely interaction with users.**\n",
      "\n",
      "**Scalability:**\n",
      "\n",
      "A scalable chatbot system can handle an increase in the number of conversations, users, or messages without a decrease in performance. It means that the system can:\n",
      "\n",
      "1. **Handle a large volume of conversations**: The system can process a large number of conversations simultaneously, without slowing down or crashing.\n",
      "2. **Add more users**: The system can accommodate an increasing number of users, without affecting the response time or quality of the conversations.\n",
      "4. **Process more messages**: The system can handle a high volume of messages, including text, images, videos, and other media, without slowing down.\n",
      "\n",
      "A scalable chatbot system ensures that the system can grow** with the increasing demand, without compromising on performance, reliability, or user satisfaction.\n",
      "\n",
      "**Low Latency:**\n",
      "\n",
      "Low latency in a chatbot system refers to the ability to respond quickly to user inputs, with minimal delay between the user's message and the chatbot's response. It means that the system can:\n",
      "\n",
      "1. **Respond quickly**: The system responds to user messages in a timely manner, typically within a few hundred milliseconds to a few seconds.\n",
      "2. **Minimize wait time**: Users do not have to wait for an extended period for the chatbot to respond, which helps to maintain user engagement.\n",
      "\n",
      "Low latency is critical in chatbots, as it directly impacts the user experience. A slow response time can lead to user frustration, abandonment, and a negative perception of the chatbot and the brand.\n",
      "\n",
      "To achieve scalability and low latency in a chatbot system, developers and architects use various techniques, such as:\n",
      "\n",
      "1. **Distributed architecture**: Breaking down the system into smaller, independent components that can be scaled and load-balanced.\n",
      "2. **Cloud computing**: Leveraging cloud services that provide on-demand scalability and high-performance computing resources.\n",
      "3. **Caching**: Storing frequently accessed data in memory or cache to minimize database queries and reduce latency.\n",
      "4. **Optimized algorithms**: Using efficient algorithms and data structures to process user inputs quickly and accurately.\n",
      "5. **Load balancing**: Distributing incoming traffic across multiple servers to ensure no single server becomes a bottleneck.\n",
      "\n",
      "By designing a scalable and low-latency chatbot system, developers can create a responsive, efficient, and engaging conversational experience for users."
     ]
    }
   ],
   "source": [
    "response = llm.stream_complete(\"Explain what is meant by a scalable and low latency in terms of a chatbot\")\n",
    "for r in response:\n",
    "    print(r.delta, end=\"\")"
   ]
  }
 ],
 "metadata": {
  "kernelspec": {
   "display_name": "Python 3 (ipykernel)",
   "language": "python",
   "name": "python3"
  },
  "language_info": {
   "codemirror_mode": {
    "name": "ipython",
    "version": 3
   },
   "file_extension": ".py",
   "mimetype": "text/x-python",
   "name": "python",
   "nbconvert_exporter": "python",
   "pygments_lexer": "ipython3",
   "version": "3.13.3"
  }
 },
 "nbformat": 4,
 "nbformat_minor": 5
}
