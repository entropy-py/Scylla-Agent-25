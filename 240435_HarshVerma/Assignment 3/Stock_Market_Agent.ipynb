{
  "cells": [
    {
      "cell_type": "code",
      "source": [
        "!pip install -qU llama-index yfinance newsapi-python langchain-groq llama-index-llms-langchain"
      ],
      "metadata": {
        "id": "f-8OEfC-ndF6"
      },
      "execution_count": 22,
      "outputs": []
    },
    {
      "cell_type": "code",
      "source": [
        "import os\n",
        "import getpass\n",
        "import yfinance as yf\n",
        "from newsapi import NewsApiClient\n",
        "from llama_index.core.tools import FunctionTool\n",
        "from langchain_groq import ChatGroq\n",
        "from llama_index.core.agent import ReActAgent\n",
        "from llama_index.llms.langchain import LangChainLLM"
      ],
      "metadata": {
        "id": "67j3R8Q_qEt1"
      },
      "execution_count": 24,
      "outputs": []
    },
    {
      "cell_type": "code",
      "source": [
        "!pip install langchain_community -q"
      ],
      "metadata": {
        "id": "6emrnyS0qUUr"
      },
      "execution_count": 28,
      "outputs": []
    },
    {
      "cell_type": "markdown",
      "source": [
        "# **SETUP: Use Groq and NewsAPI keys**"
      ],
      "metadata": {
        "id": "sz0rBVkwn9o1"
      }
    },
    {
      "cell_type": "code",
      "source": [
        "os.environ[\"GROQ_API_KEY\"] = getpass.getpass(\"Enter your Groq API Key: \")\n",
        "os.environ[\"NEWS_API_KEY\"] = getpass.getpass(\"Enter your NewsAPI.org API Key: \")"
      ],
      "metadata": {
        "colab": {
          "base_uri": "https://localhost:8080/"
        },
        "id": "eASvRE9qnmst",
        "outputId": "46452f90-f81a-4684-c713-5c4e76aecbf5"
      },
      "execution_count": 19,
      "outputs": [
        {
          "name": "stdout",
          "output_type": "stream",
          "text": [
            "Enter your Groq API Key: ··········\n",
            "Enter your NewsAPI.org API Key: ··········\n"
          ]
        }
      ]
    },
    {
      "cell_type": "markdown",
      "source": [
        "# **1. DEFINE CUSTOM TOOLS**"
      ],
      "metadata": {
        "id": "tf7hqEMfoQgk"
      }
    },
    {
      "cell_type": "code",
      "source": [
        "def get_stock_price(ticker_symbol: str) -> str:\n",
        "    \"\"\"\n",
        "    Use this tool to get the current stock price for a given ticker symbol.\n",
        "\n",
        "    Args:\n",
        "        ticker_symbol (str): The stock ticker symbol (e.g., 'AAPL' for Apple).\n",
        "    \"\"\"\n",
        "    try:\n",
        "        stock = yf.Ticker(ticker_symbol)\n",
        "        price = stock.history(period=\"1d\")['Close'].iloc[-1]\n",
        "        return f\"The current stock price of {ticker_symbol} is ${price:.2f}\"\n",
        "    except Exception as e:\n",
        "        return f\"Could not find stock price for ticker '{ticker_symbol}'. Error: {e}\"\n",
        "\n",
        "def get_company_news(company_name: str) -> str:\n",
        "    \"\"\"\n",
        "    Use this tool to get the latest news articles for a given company name.\n",
        "\n",
        "    Args:\n",
        "        company_name (str): The name of the company (e.g., 'Apple', 'Microsoft').\n",
        "    \"\"\"\n",
        "    try:\n",
        "        newsapi = NewsApiClient(api_key=os.environ[\"NEWS_API_KEY\"])\n",
        "        top_headlines = newsapi.get_everything(\n",
        "            q=company_name,\n",
        "            language='en',\n",
        "            sort_by='publishedAt',\n",
        "            page_size=3\n",
        "        )\n",
        "        articles = top_headlines.get('articles', [])\n",
        "        if not articles:\n",
        "            return f\"No recent news found for {company_name}.\"\n",
        "\n",
        "        news_summary = f\"Here are the top 3 recent news headlines for {company_name}:\\n\"\n",
        "        for article in articles:\n",
        "            news_summary += f\"- Title: {article['title']}\\n  Source: {article['source']['name']}\\n\"\n",
        "        return news_summary\n",
        "    except Exception as e:\n",
        "        return f\"Could not fetch news for '{company_name}'. Error: {e}\"\n",
        "\n",
        "def get_company_info(ticker_symbol: str) -> str:\n",
        "    \"\"\"\n",
        "    Use this tool to get a summary of a company's business activities.\n",
        "\n",
        "    Args:\n",
        "        ticker_symbol (str): The stock ticker symbol (e.g., 'AAPL' for Apple).\n",
        "    \"\"\"\n",
        "    try:\n",
        "        company = yf.Ticker(ticker_symbol)\n",
        "        return company.info.get('longBusinessSummary', f\"No summary available for {ticker_symbol}.\")\n",
        "    except Exception as e:\n",
        "        return f\"Could not fetch info for ticker '{ticker_symbol}'. Error: {e}\"\n",
        "\n",
        "print(\"All custom tools for the stock market agent have been defined.\")"
      ],
      "metadata": {
        "colab": {
          "base_uri": "https://localhost:8080/"
        },
        "id": "r7N7UGGqnyb3",
        "outputId": "b77b2a4a-a184-49ab-e042-e678e34cb133"
      },
      "execution_count": 20,
      "outputs": [
        {
          "output_type": "stream",
          "name": "stdout",
          "text": [
            "All custom tools for the stock market agent have been defined.\n"
          ]
        }
      ]
    },
    {
      "cell_type": "markdown",
      "source": [
        "# **2. CREATE THE AGENT WITH THE FREE LLM**"
      ],
      "metadata": {
        "id": "ep-oMlMgoU_N"
      }
    },
    {
      "cell_type": "code",
      "source": [
        "# Create a list of tools\n",
        "tool_list = [\n",
        "    FunctionTool.from_defaults(fn=get_stock_price),\n",
        "    FunctionTool.from_defaults(fn=get_company_news),\n",
        "    FunctionTool.from_defaults(fn=get_company_info),\n",
        "]\n",
        "\n",
        "# Initialize the free LLM from Groq\n",
        "llm = ChatGroq(temperature=0, model_name=\"llama3-8b-8192\")\n",
        "\n",
        "# Wrap the LangChain model for LlamaIndex compatibility using the correct import\n",
        "lm = LangChainLLM(llm)\n",
        "\n",
        "# Create the agent using the compatible ReActAgent\n",
        "agent = ReActAgent.from_tools(\n",
        "    tools=tool_list,\n",
        "    llm=lm,\n",
        "    verbose=True\n",
        ")\n",
        "\n",
        "print(\"\\nStock Market Agent created successfully.\")"
      ],
      "metadata": {
        "colab": {
          "base_uri": "https://localhost:8080/"
        },
        "id": "7m_mTfuen0_h",
        "outputId": "aa224e96-0e58-4bcb-dd9b-6df524765479"
      },
      "execution_count": 32,
      "outputs": [
        {
          "output_type": "stream",
          "name": "stdout",
          "text": [
            "\n",
            "Stock Market Agent created successfully.\n"
          ]
        }
      ]
    },
    {
      "cell_type": "markdown",
      "source": [
        "# **3. CHAT WITH THE AGENT**"
      ],
      "metadata": {
        "id": "-0qs7u6uopb-"
      }
    },
    {
      "cell_type": "code",
      "source": [
        "# --- Example 1: Trigger the get_stock_price tool ---\n",
        "print(\"\\n--- TEST 1: Getting a stock price ---\")\n",
        "response1 = agent.chat(\"What is the current stock price for NVIDIA (NVDA)?\")\n",
        "print(f\"\\nAgent Response: {response1}\")\n",
        "\n",
        "# --- Example 2: Trigger the get_company_news tool ---\n",
        "print(\"\\n--- TEST 2: Getting company news ---\")\n",
        "response2 = agent.chat(\"What's the latest news on Tesla?\")\n",
        "print(f\"\\nAgent Response: {response2}\")\n",
        "\n",
        "# --- Example 3: A complex query requiring multiple tool calls ---\n",
        "print(\"\\n--- TEST 3: Complex multi-tool query ---\")\n",
        "response3 = agent.chat(\"Give me the current price and recent news for Google (GOOGL).\")\n",
        "print(f\"\\nAgent Response: {response3}\")"
      ],
      "metadata": {
        "colab": {
          "base_uri": "https://localhost:8080/"
        },
        "id": "8q7je4jhn3lG",
        "outputId": "26990d11-8806-4bad-891c-65fe9cacfe6c"
      },
      "execution_count": 33,
      "outputs": [
        {
          "output_type": "stream",
          "name": "stdout",
          "text": [
            "\n",
            "--- TEST 1: Getting a stock price ---\n",
            "> Running step 80b1a1db-35a1-4aa7-a774-15442a121819. Step input: What is the current stock price for NVIDIA (NVDA)?\n",
            "\u001b[1;3;38;5;200mThought: The current language of the user is: English. I need to use a tool to help me answer the question.\n",
            "Action: get_stock_price\n",
            "Action Input: {'ticker_symbol': 'NVDA'}\n",
            "\u001b[0m\u001b[1;3;34mObservation: The current stock price of NVDA is $143.96\n",
            "\u001b[0m> Running step 9cece0f0-2b01-44c5-acc7-51d2416db922. Step input: None\n",
            "\u001b[1;3;38;5;200mThought: I can answer without using any more tools. I'll use the user's language to answer\n",
            "Answer: The current stock price for NVIDIA (NVDA) is $143.96.\n",
            "\u001b[0m\n",
            "Agent Response: The current stock price for NVIDIA (NVDA) is $143.96.\n",
            "\n",
            "--- TEST 2: Getting company news ---\n",
            "> Running step 077982c4-4286-4183-88be-53833e4e5b5b. Step input: What's the latest news on Tesla?\n",
            "\u001b[1;3;38;5;200mThought: The current language of the user is: English. I need to use a tool to help me answer the question.\n",
            "Action: get_company_news\n",
            "Action Input: {'company_name': 'Tesla'}\n",
            "\u001b[0m\u001b[1;3;34mObservation: Here are the top 3 recent news headlines for Tesla:\n",
            "- Title: How Texas’ hands-off approach to autonomous vehicles gave Tesla an opening\n",
            "  Source: The Verge\n",
            "- Title: Nissan’s 2028 EV Battery Could Make Tesla Sweat | Carscoops\n",
            "  Source: CarScoops\n",
            "- Title: Rad Power’s new RadRunner Plus and Max e-bikes get free consoles from $1,799+, Greenworks, Worx, electric composters, more\n",
            "  Source: Electrek\n",
            "\n",
            "\u001b[0m> Running step 507f8aa4-24b3-4459-a16d-450e28ec7ffd. Step input: None\n",
            "\u001b[1;3;38;5;200mThought: I can answer without using any more tools. I'll use the user's language to answer\n",
            "Answer: Here are the top 3 recent news headlines for Tesla: \"How Texas’ hands-off approach to autonomous vehicles gave Tesla an opening\" from The Verge, \"Nissan’s 2028 EV Battery Could Make Tesla Sweat\" from CarScoops, and \"Rad Power’s new RadRunner Plus and Max e-bikes get free consoles from $1,799+, Greenworks, Worx, electric composters, more\" from Electrek.\n",
            "\u001b[0m\n",
            "Agent Response: Here are the top 3 recent news headlines for Tesla: \"How Texas’ hands-off approach to autonomous vehicles gave Tesla an opening\" from The Verge, \"Nissan’s 2028 EV Battery Could Make Tesla Sweat\" from CarScoops, and \"Rad Power’s new RadRunner Plus and Max e-bikes get free consoles from $1,799+, Greenworks, Worx, electric composters, more\" from Electrek.\n",
            "\n",
            "--- TEST 3: Complex multi-tool query ---\n",
            "> Running step dcf501b1-953a-4c70-ae19-69b971e74e94. Step input: Give me the current price and recent news for Google (GOOGL).\n",
            "\u001b[1;3;38;5;200mThought: I need to use a tool to get the current stock price and recent news for Google (GOOGL).\n",
            "Action: get_stock_price\n",
            "Action Input: {'ticker_symbol': 'GOOGL'}\n",
            "\u001b[0m\u001b[1;3;34mObservation: The current stock price of GOOGL is $168.94\n",
            "\u001b[0m> Running step 45a4c1c9-023d-4709-b12c-7be1f05b238f. Step input: None\n",
            "\u001b[1;3;38;5;200mThought: I also need to get the recent news for Google (GOOGL).\n",
            "Action: get_company_news\n",
            "Action Input: {'company_name': 'Google'}\n",
            "\u001b[0m\u001b[1;3;34mObservation: Here are the top 3 recent news headlines for Google:\n",
            "- Title: How to watch Trinidad and Tobago vs Haiti in the USA: Live Stream and TV for 2025 Gold Cup\n",
            "  Source: Worldsoccertalk.com\n",
            "- Title: BREAKING: 16 BILLION Passwords Leaked! Apple, Google, Facebook and More!\n",
            "  Source: Freerepublic.com\n",
            "- Title: Grand Slam Mexico Delivers Another Triumph for AEW and Pro Wrestling\n",
            "  Source: Bleeding Cool News\n",
            "\n",
            "\u001b[0m> Running step 1abbf11d-0e09-413f-b26a-5f320b8490e3. Step input: None\n"
          ]
        },
        {
          "output_type": "stream",
          "name": "stderr",
          "text": [
            "ERROR:yfinance:HTTP Error 401: \n"
          ]
        },
        {
          "output_type": "stream",
          "name": "stdout",
          "text": [
            "\u001b[1;3;38;5;200mThought: I also need to get a summary of Google's business activities.\n",
            "Action: get_company_info\n",
            "Action Input: {'ticker_symbol': 'GOOGL'}\n",
            "\u001b[0m\u001b[1;3;34mObservation: No summary available for GOOGL.\n",
            "\u001b[0m> Running step e6acf1f4-ab35-451d-9ac5-795f402f5eeb. Step input: None\n",
            "\u001b[1;3;38;5;200mThought: I can answer without using any more tools. I'll use the user's language to answer.\n",
            "Answer: The current stock price of Google (GOOGL) is $168.94, and the recent news headlines include articles about watching Trinidad and Tobago vs Haiti in the USA, a password leak affecting major tech companies, and a triumph for AEW and Pro Wrestling in Mexico.\n",
            "\u001b[0m\n",
            "Agent Response: The current stock price of Google (GOOGL) is $168.94, and the recent news headlines include articles about watching Trinidad and Tobago vs Haiti in the USA, a password leak affecting major tech companies, and a triumph for AEW and Pro Wrestling in Mexico.\n"
          ]
        }
      ]
    }
  ],
  "metadata": {
    "colab": {
      "provenance": []
    },
    "kernelspec": {
      "display_name": "Python 3",
      "name": "python3"
    }
  },
  "nbformat": 4,
  "nbformat_minor": 0
}