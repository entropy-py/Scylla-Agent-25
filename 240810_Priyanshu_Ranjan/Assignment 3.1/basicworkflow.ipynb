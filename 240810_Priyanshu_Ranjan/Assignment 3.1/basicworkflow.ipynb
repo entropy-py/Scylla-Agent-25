{
 "cells": [
  {
   "cell_type": "code",
   "execution_count": 1,
   "id": "2fd9b33b-4732-4bf4-8762-9d13acf6af53",
   "metadata": {},
   "outputs": [
    {
     "name": "stdout",
     "output_type": "stream",
     "text": [
      "\n",
      "\u001b[1m[\u001b[0m\u001b[34;49mnotice\u001b[0m\u001b[1;39;49m]\u001b[0m\u001b[39;49m A new release of pip is available: \u001b[0m\u001b[31;49m25.0.1\u001b[0m\u001b[39;49m -> \u001b[0m\u001b[32;49m25.1.1\u001b[0m\n",
      "\u001b[1m[\u001b[0m\u001b[34;49mnotice\u001b[0m\u001b[1;39;49m]\u001b[0m\u001b[39;49m To update, run: \u001b[0m\u001b[32;49mpip install --upgrade pip\u001b[0m\n",
      "\n",
      "\u001b[1m[\u001b[0m\u001b[34;49mnotice\u001b[0m\u001b[1;39;49m]\u001b[0m\u001b[39;49m A new release of pip is available: \u001b[0m\u001b[31;49m25.0.1\u001b[0m\u001b[39;49m -> \u001b[0m\u001b[32;49m25.1.1\u001b[0m\n",
      "\u001b[1m[\u001b[0m\u001b[34;49mnotice\u001b[0m\u001b[1;39;49m]\u001b[0m\u001b[39;49m To update, run: \u001b[0m\u001b[32;49mpip install --upgrade pip\u001b[0m\n"
     ]
    }
   ],
   "source": [
    "!pip install -q llama-index-core\n",
    "!pip install -q llama-index-utils-workflow"
   ]
  },
  {
   "cell_type": "code",
   "execution_count": 4,
   "id": "c3a56416-a777-4fd6-bdda-842cc711fa92",
   "metadata": {},
   "outputs": [],
   "source": [
    "from llama_index.core.workflow import (\n",
    "    StartEvent,\n",
    "    StopEvent,\n",
    "    Workflow,\n",
    "    step,\n",
    "    Event,\n",
    ")\n",
    "import random"
   ]
  },
  {
   "cell_type": "code",
   "execution_count": 3,
   "id": "40933f82-e7fc-43be-bf0c-76dcf844dcad",
   "metadata": {},
   "outputs": [
    {
     "name": "stdout",
     "output_type": "stream",
     "text": [
      "Hello World!\n"
     ]
    }
   ],
   "source": [
    "class MyFirstWorkflow(Workflow):\n",
    "    @step\n",
    "    async def step_one(self, ev: StartEvent) -> StopEvent:\n",
    "        return StopEvent(result=\"Hello World!\")\n",
    "\n",
    "w = MyFirstWorkflow(timeout=10, verbose=False)\n",
    "result = await w.run()\n",
    "print(result)"
   ]
  },
  {
   "cell_type": "code",
   "execution_count": 4,
   "id": "8d16f102-1d2d-4b12-a44f-ec19fd80cbce",
   "metadata": {},
   "outputs": [
    {
     "name": "stdout",
     "output_type": "stream",
     "text": [
      "basic_workflow.html\n"
     ]
    }
   ],
   "source": [
    "from llama_index.utils.workflow import draw_all_possible_flows\n",
    "\n",
    "draw_all_possible_flows(\n",
    "    MyFirstWorkflow,\n",
    "    filename=\"basic_workflow.html\",\n",
    "    # Optional, can limit long event names in your workflow\n",
    "    # Can help with readability\n",
    "    # max_label_length=10,\n",
    ")"
   ]
  },
  {
   "cell_type": "code",
   "execution_count": 3,
   "id": "59def505-bbf4-45aa-b3ad-7fc74d83d016",
   "metadata": {},
   "outputs": [],
   "source": [
    "class FirstEvent(Event):\n",
    "    first_output: str\n",
    "\n",
    "class LoopEvent(Event):\n",
    "    loop_output: str"
   ]
  },
  {
   "cell_type": "code",
   "execution_count": 8,
   "id": "6ddfb703-d111-46fb-8e80-77a1e256eabc",
   "metadata": {},
   "outputs": [
    {
     "name": "stdout",
     "output_type": "stream",
     "text": [
      "Retrying..\n",
      "Processing..\n",
      "Finishing..\n",
      "Success\n"
     ]
    }
   ],
   "source": [
    "class MySecondWorkflow(Workflow):\n",
    "    @step\n",
    "    async def step_uno(self, ev: StartEvent | LoopEvent) -> LoopEvent | FirstEvent:\n",
    "        if random.randint(0,1)==0:\n",
    "            print(\"Retrying..\")\n",
    "            return LoopEvent(loop_output=\"Back to step uno\")\n",
    "        else:\n",
    "            print(\"Processing..\")\n",
    "            return FirstEvent(first_output=\"Step uno complete\")\n",
    "    @step\n",
    "    async def step_dos(self, ev: FirstEvent)->StopEvent:\n",
    "        print(\"Finishing..\")\n",
    "        return StopEvent(result=\"Success\")\n",
    "w2= MySecondWorkflow(timeout=30, verbose=False)\n",
    "result = await w2.run()\n",
    "print(result)"
   ]
  },
  {
   "cell_type": "code",
   "execution_count": 9,
   "id": "0195dcf5-0765-48b0-8a6e-b4c660d5ce48",
   "metadata": {},
   "outputs": [
    {
     "name": "stdout",
     "output_type": "stream",
     "text": [
      "basic_workflow2.html\n"
     ]
    }
   ],
   "source": [
    "from llama_index.utils.workflow import draw_all_possible_flows\n",
    "\n",
    "draw_all_possible_flows(\n",
    "    MySecondWorkflow,\n",
    "    filename=\"basic_workflow2.html\",\n",
    "    # Optional, can limit long event names in your workflow\n",
    "    # Can help with readability\n",
    "    # max_label_length=10,\n",
    ")"
   ]
  }
 ],
 "metadata": {
  "kernelspec": {
   "display_name": "Python 3 (ipykernel)",
   "language": "python",
   "name": "python3"
  },
  "language_info": {
   "codemirror_mode": {
    "name": "ipython",
    "version": 3
   },
   "file_extension": ".py",
   "mimetype": "text/x-python",
   "name": "python",
   "nbconvert_exporter": "python",
   "pygments_lexer": "ipython3",
   "version": "3.13.3"
  }
 },
 "nbformat": 4,
 "nbformat_minor": 5
}
